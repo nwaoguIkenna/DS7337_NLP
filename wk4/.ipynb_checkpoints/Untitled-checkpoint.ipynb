{
 "cells": [
  {
   "cell_type": "markdown",
   "metadata": {},
   "source": [
    "<center><font size=5> <b> SMU Homewwork 4 - MSDS7337 - Natural Language Processing </b> </font>\n",
    "<br><br><br>\n",
    "<center><font size=4> <b> Spring 2021  Ikenna Nwaogu </b></font> \n",
    "\n",
    "\n",
    "\n",
    "\n",
    "<img src=\"https://cdn.searchenginejournal.com/wp-content/uploads/2020/08/an-introduction-to-natural-language-processing-with-python-for-seos-5f3519eeb8368-760x400.webp\"> \n",
    "<br>\n",
    "<p align=\"center\"><font size=4> <b><center> Part of Speech(POS) Tagger  </b></font> </p>"
   ]
  },
  {
   "cell_type": "markdown",
   "metadata": {},
   "source": [
    "### Below is the Dramatic Reader for Lower Grades by Florence Holbrook"
   ]
  },
  {
   "cell_type": "code",
   "execution_count": 7,
   "metadata": {},
   "outputs": [],
   "source": [
    "import nltk\n",
    "f=open('/home/ikenna/Documents/datascience/DS7337_NLP/27764-8.txt','r',encoding=\"ISO-8859-1\")\n",
    "raw=f.read()\n",
    "tokens = nltk.word_tokenize(raw)\n",
    "text = nltk.Text(tokens)"
   ]
  },
  {
   "cell_type": "code",
   "execution_count": 9,
   "metadata": {},
   "outputs": [
    {
     "name": "stderr",
     "output_type": "stream",
     "text": [
      "Building ngram index...\n"
     ]
    },
    {
     "name": "stdout",
     "output_type": "stream",
     "text": [
      "enough -- come , peep in the U.S. unless a copyright or other form . ,\n",
      "my child . I have the harvest , and I 'll fatten you up nicely and\n",
      "then turn to the top of the Full Project Gutenberg-tm License must\n",
      "appear prominently whenever any copy of a funny coat ? By reading or\n",
      "using any part of this Project Gutenberg-tm License terms from this\n",
      "work is derived from the western heavens and the wood ! the flowers\n",
      "are lovely ! The day is not a princess , sir , but my free mind you\n",
      "can !\n"
     ]
    },
    {
     "data": {
      "text/plain": [
       "\"enough -- come , peep in the U.S. unless a copyright or other form . ,\\nmy child . I have the harvest , and I 'll fatten you up nicely and\\nthen turn to the top of the Full Project Gutenberg-tm License must\\nappear prominently whenever any copy of a funny coat ? By reading or\\nusing any part of this Project Gutenberg-tm License terms from this\\nwork is derived from the western heavens and the wood ! the flowers\\nare lovely ! The day is not a princess , sir , but my free mind you\\ncan !\""
      ]
     },
     "execution_count": 9,
     "metadata": {},
     "output_type": "execute_result"
    }
   ],
   "source": [
    "text.generate()"
   ]
  },
  {
   "cell_type": "code",
   "execution_count": 10,
   "metadata": {},
   "outputs": [],
   "source": [
    "def lexical_diversity(text):\n",
    "    return len(set(text)) / len(text)\n",
    "    \n",
    "def percentage(count, total):\n",
    "    return 100 * count / total"
   ]
  },
  {
   "cell_type": "code",
   "execution_count": 11,
   "metadata": {},
   "outputs": [
    {
     "data": {
      "text/plain": [
       "0.12242019074488639"
      ]
     },
     "execution_count": 11,
     "metadata": {},
     "output_type": "execute_result"
    }
   ],
   "source": [
    "lexical_diversity(text)"
   ]
  },
  {
   "cell_type": "markdown",
   "metadata": {},
   "source": [
    "### Graded Poetry: Seventh Year by Georgia Alexander and Katherine Devereux Blake"
   ]
  },
  {
   "cell_type": "code",
   "execution_count": 12,
   "metadata": {},
   "outputs": [],
   "source": [
    "f=open('/home/ikenna/Documents/datascience/DS7337_NLP/9542-8.txt','r',encoding=\"ISO-8859-1\")\n",
    "raw=f.read()\n",
    "tokens = nltk.word_tokenize(raw)\n",
    "text2 = nltk.Text(tokens)"
   ]
  },
  {
   "cell_type": "code",
   "execution_count": 13,
   "metadata": {},
   "outputs": [
    {
     "data": {
      "text/plain": [
       "0.21118311423810404"
      ]
     },
     "execution_count": 13,
     "metadata": {},
     "output_type": "execute_result"
    }
   ],
   "source": [
    "lexical_diversity(text2)"
   ]
  },
  {
   "cell_type": "markdown",
   "metadata": {},
   "source": [
    "### Sanders' Union Fourth Reader by Charles W. Sanders"
   ]
  },
  {
   "cell_type": "code",
   "execution_count": 15,
   "metadata": {},
   "outputs": [],
   "source": [
    "f=open('/home/ikenna/Documents/datascience/DS7337_NLP/9078.txt','r',encoding=\"ISO-8859-1\")\n",
    "raw=f.read()\n",
    "tokens = nltk.word_tokenize(raw)\n",
    "text3 = nltk.Text(tokens)"
   ]
  },
  {
   "cell_type": "code",
   "execution_count": 16,
   "metadata": {},
   "outputs": [
    {
     "data": {
      "text/plain": [
       "0.11859365466748018"
      ]
     },
     "execution_count": 16,
     "metadata": {},
     "output_type": "execute_result"
    }
   ],
   "source": [
    "print(\"Text 3 VSize:\",lexical_diversity(text3)"
   ]
  },
  {
   "cell_type": "markdown",
   "metadata": {},
   "source": [
    "The vocabulary size of all 3 text are 3992, 5703 and 17105; the overall length is 32609, 27005 and 144232 for Text 1, Text 3 respectively. \n",
    "Comparing the 3 vocabulary size with respect to the lerical diversity, text 2 has a a bigger vocabulary count than text 1 but yet has a lower count than text 1. \n",
    "\n",
    "Given the lexical diversity value for all three we can say that more vocabulary was used for text 2 with respect the its proportion to it's length. Both text 1 and text 2 are similar with respect to their respective lengths."
   ]
  },
  {
   "cell_type": "code",
   "execution_count": 18,
   "metadata": {},
   "outputs": [
    {
     "name": "stdout",
     "output_type": "stream",
     "text": [
      "Text1 VSize: 3992\n",
      "Text2 VSize: 5703\n",
      "Text3 VSize: 17105\n",
      "Text1 overall Length: 32609\n",
      "Text2 overall Length: 27005\n",
      "Text3 overall Length: 144232\n"
     ]
    }
   ],
   "source": [
    "print(\"Text 1 Vocabulary Size:\",len(set(text)))\n",
    "print(\"Text 2 Vocabulary Size:\",len(set(text2)))\n",
    "print(\"Text 3 Vocabulary Size:\",len(set(text3)))\n",
    "\n",
    "print(\"Text 1 overall Length:\",len(text))\n",
    "print(\"Text 2 overall Length:\",len(text2))\n",
    "print(\"Text 3 overall Length:\",len(text3))"
   ]
  },
  {
   "cell_type": "code",
   "execution_count": null,
   "metadata": {},
   "outputs": [],
   "source": []
  },
  {
   "cell_type": "code",
   "execution_count": null,
   "metadata": {},
   "outputs": [],
   "source": []
  }
 ],
 "metadata": {
  "kernelspec": {
   "display_name": "Python 3",
   "language": "python",
   "name": "python3"
  },
  "language_info": {
   "codemirror_mode": {
    "name": "ipython",
    "version": 3
   },
   "file_extension": ".py",
   "mimetype": "text/x-python",
   "name": "python",
   "nbconvert_exporter": "python",
   "pygments_lexer": "ipython3",
   "version": "3.7.7"
  }
 },
 "nbformat": 4,
 "nbformat_minor": 4
}
